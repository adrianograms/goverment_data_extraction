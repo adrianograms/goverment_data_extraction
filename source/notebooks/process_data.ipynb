{
 "cells": [
  {
   "cell_type": "code",
   "execution_count": 1,
   "metadata": {},
   "outputs": [
    {
     "name": "stderr",
     "output_type": "stream",
     "text": [
      "24/10/05 07:27:18 WARN Utils: Your hostname, Ubuntu-VirtualBox resolves to a loopback address: 127.0.1.1; using 10.0.2.15 instead (on interface enp0s3)\n",
      "24/10/05 07:27:18 WARN Utils: Set SPARK_LOCAL_IP if you need to bind to another address\n",
      "Setting default log level to \"WARN\".\n",
      "To adjust logging level use sc.setLogLevel(newLevel). For SparkR, use setLogLevel(newLevel).\n",
      "24/10/05 07:27:20 WARN NativeCodeLoader: Unable to load native-hadoop library for your platform... using builtin-java classes where applicable\n"
     ]
    },
    {
     "name": "stderr",
     "output_type": "stream",
     "text": [
      "24/10/05 07:27:33 WARN GarbageCollectionMetrics: To enable non-built-in garbage collector(s) List(G1 Concurrent GC), users should configure it(them) to spark.eventLog.gcMetrics.youngGenerationGarbageCollectors or spark.eventLog.gcMetrics.oldGenerationGarbageCollectors\n"
     ]
    }
   ],
   "source": [
    "from pyspark.sql import SparkSession\n",
    "\n",
    "spark = SparkSession\\\n",
    "        .builder\\\n",
    "        .appName(\"Extraction_Data\")\\\n",
    "        .getOrCreate()"
   ]
  },
  {
   "cell_type": "code",
   "execution_count": 13,
   "metadata": {},
   "outputs": [],
   "source": [
    "from datetime import datetime\n",
    "\n",
    "current_year = datetime.now().year"
   ]
  },
  {
   "cell_type": "code",
   "execution_count": 15,
   "metadata": {},
   "outputs": [
    {
     "data": {
      "text/plain": [
       "int"
      ]
     },
     "execution_count": 15,
     "metadata": {},
     "output_type": "execute_result"
    }
   ],
   "source": [
    "type(datetime.now().year)"
   ]
  },
  {
   "cell_type": "code",
   "execution_count": 14,
   "metadata": {},
   "outputs": [
    {
     "name": "stdout",
     "output_type": "stream",
     "text": [
      "2024\n"
     ]
    }
   ],
   "source": [
    "ano_inicial = current_year\n",
    "ano_final = current_year\n",
    "\n",
    "dif_anos = (ano_final - ano_inicial) + 1\n",
    "for i in range(dif_anos):\n",
    "    print(ano_inicial + i)"
   ]
  },
  {
   "cell_type": "code",
   "execution_count": 5,
   "metadata": {},
   "outputs": [
    {
     "name": "stdout",
     "output_type": "stream",
     "text": [
      "root\n",
      " |-- autorEmenda: string (nullable = true)\n",
      " |-- codigoAmparoLegal: long (nullable = true)\n",
      " |-- descricaoEmpenho: string (nullable = true)\n",
      " |-- fonteRecurso: string (nullable = true)\n",
      " |-- idProjetoInvestimento: string (nullable = true)\n",
      " |-- informacoesComplementares: string (nullable = true)\n",
      " |-- localEntrega: string (nullable = true)\n",
      " |-- naturezaDespesa: string (nullable = true)\n",
      " |-- nomeEsferaOrcamentaria: string (nullable = true)\n",
      " |-- nomeFavorecido: string (nullable = true)\n",
      " |-- nomeTipoEmpenho: string (nullable = true)\n",
      " |-- nrPtres: string (nullable = true)\n",
      " |-- numeroNotaEmpenhoGerada: string (nullable = true)\n",
      " |-- numeroProcesso: string (nullable = true)\n",
      " |-- pagina: long (nullable = true)\n",
      " |-- planoInterno: string (nullable = true)\n",
      " |-- planoOrcamentario: string (nullable = true)\n",
      " |-- resultadoPrimario: string (nullable = true)\n",
      " |-- tamanhoDaPagina: long (nullable = true)\n",
      " |-- tipoCredito: string (nullable = true)\n",
      " |-- ugEmitente: string (nullable = true)\n",
      " |-- ugResponsavel: long (nullable = true)\n",
      " |-- unidadeOrcamentaria: string (nullable = true)\n",
      " |-- valorEmpenho: double (nullable = true)\n",
      "\n",
      "None\n"
     ]
    },
    {
     "name": "stderr",
     "output_type": "stream",
     "text": [
      "                                                                                \r"
     ]
    },
    {
     "name": "stdout",
     "output_type": "stream",
     "text": [
      "+------------+-----------------+--------------------+------------+---------------------+-------------------------+--------------------+---------------+----------------------+--------------------+---------------+-----------------+-----------------------+--------------------+------+------------+-----------------+-----------------+---------------+-----------+----------+-------------+-------------------+------------+\n",
      "| autorEmenda|codigoAmparoLegal|    descricaoEmpenho|fonteRecurso|idProjetoInvestimento|informacoesComplementares|        localEntrega|naturezaDespesa|nomeEsferaOrcamentaria|      nomeFavorecido|nomeTipoEmpenho|          nrPtres|numeroNotaEmpenhoGerada|      numeroProcesso|pagina|planoInterno|planoOrcamentario|resultadoPrimario|tamanhoDaPagina|tipoCredito|ugEmitente|ugResponsavel|unidadeOrcamentaria|valorEmpenho|\n",
      "+------------+-----------------+--------------------+------------+---------------------+-------------------------+--------------------+---------------+----------------------+--------------------+---------------+-----------------+-----------------------+--------------------+------+------------+-----------------+-----------------+---------------+-----------+----------+-------------+-------------------+------------+\n",
      "|000000000000|              179|INSTALACOES - SUI...|  1000000000|          35343.41-45|              35343.41-45|                   .|         449051|      Orçamento Fiscal|                    |      Ordinário|12364511320RK0041|           2024NE001225|                    |     0| M20RKG01CKN|          0000000|                2|             10|          A|    153079|       155425|              26241|    359490.0|\n",
      "|000000000000|                6|APL./LOCAL DE ENT...|  1050A00008|          23939.33-10|              23939.33-10|                BAGL|         449051|      Orçamento Fiscal|                    |         Global|05151611220XV0001|           2024NE000786|67107.001671/2023-75|     0| SREC13PPO05|             0002|                1|             10|          A|    120645|       120030|              52911|  1734808.25|\n",
      "|000000000000|                6|B4PJT23PDRR6SC001...|  1000000000|           2050.33-57|               2050.33-57|                    |         449051|      Orçamento Fiscal|                    |         Global|051536112156M0001|           2024NE000017|   65400001951202333|     0| F8MOPSPARTC|             000A|                2|             10|          A|    160282|       160502|              52121|   1300000.0|\n",
      "|000000000000|                4|Ampliação da sala...|  1000000000|          22987.15-23|              22987.15-23|                    |         449051|      Orçamento Fiscal|                    |      Ordinário|051536112219D0001|           2024NE000127|    NPOR DFD 01/2024|     0| B4OMOBMAQUA|             0003|               00|             10|         00|    160161|       160502|              52121|    25876.34|\n",
      "|000000000000|                4|B4PJT23PDRSENT011...|  1000000000|           2750.43-87|               2750.43-87|                    |         449051|      Orçamento Fiscal|                    |         Global|051536112156M0001|           2024NE000014|   64327005272202058|     0| FIA231XFBLD|             000A|                2|             10|          A|    160396|       160502|              52121|    149130.1|\n",
      "|        NULL|              126|COBRIR DESPESAS C...|  3000000000|           6637.52-73|               6637.52-73|                 GO |         449051|      Orçamento Fiscal|PENTAG ENGENHARIA...|      Ordinário|             NULL|           2024NE450095|59500.001594/2020-30|     0| CO0000APAI2|             NULL|             NULL|             10|       NULL|    195006|       195010|               NULL|    279867.0|\n",
      "|           @|              115|1 T.A.D. ao Contr...|  1000000000|          13157.53-58|              13157.53-58|                    |         449051|      Orçamento Fiscal|                    |         Global|28845090300NR0053|           2024NE000134|053-00046948/2022-64|     0|            |             0001|                1|             10|          A|    170394|         NULL|              73901|    87392.93|\n",
      "|000000000000|                6|APL./LOCAL DE ENT...|  1050A00008|          29289.33-14|              29289.33-14|                BAGL|         449051|      Orçamento Fiscal|                    |         Global|05151611220XV0001|           2024NE000787|   67107002164202359|     0| SREC13PPO05|             0002|                1|             10|          A|    120645|       120030|              52911|  2591876.72|\n",
      "|000000000000|                6|B4PJT23PDRSENT008...|  1000000000|           6247.43-04|               6247.43-04|                    |         449051|      Orçamento Fiscal|                    |         Global|051536112156M0001|           2024NE000015|   64327002912202230|     0| FIA161XFBLD|             000A|                2|             10|          A|    160396|       160502|              52121|   602057.36|\n",
      "|        NULL|              126|SERVICO DE PERFUR...|  1000000000|           6620.52-54|               6620.52-54|                 GO |         449051|      Orçamento Fiscal|Agromáquinas Empr...|      Ordinário|             NULL|           2024NE470297|59500.003785/2023-89|     0| 71100004GO2|             NULL|             NULL|             10|       NULL|    195006|       195013|               NULL|  6004464.76|\n",
      "|000000000000|                4|SOLICITAÇÃO DE EM...|  1050A00008|          28624.13-81|              28624.13-81|         CINDACTA IV|         449051|      Orçamento Fiscal|                    |           NULL|05151611220XV0001|           2024NE000400|67615.028233/2022-33|     0| FCEA04ADM05|             0002|                1|             10|          A|    120630|       120094|              52911|   121502.86|\n",
      "|        NULL|              180|Reforma de parte ...|  1050000022|          37523.53-40|              37523.53-40|UF: DF, Município...|         449051|      Orçamento Fiscal|SAO JUDAS COMERCI...|         Global|             NULL|           2024NE005012|              225232|     0| BCBADUN2000|             NULL|             NULL|             10|       NULL|    173057|       173057|               NULL|        0.01|\n",
      "|000000000000|                6|B4PJT23PDRAMZP011...|  1000000000|          29376.11-06|              29376.11-06|Avenida Rogério W...|         449051|      Orçamento Fiscal|                    |         Global|051536112156M0001|           2024NE000104|64333.001649/2023-63|     0| FHA131XAPTG|             000A|                2|             10|          A|    160017|       160502|              52121|   335674.21|\n",
      "|000000000000|              123|Termo de Apostila...|  1000000000|           6490.27-61|               6490.27-61|                 123|         449051|      Orçamento Fiscal|                    |      Ordinário|205722303215c0001|           2024NE000016|21173.001730/2023-11|     0|     PAC2024|             0002|                3|             10|          A|    130240|       130240|              22202|    23474.36|\n",
      "|        NULL|              126|COBRIR DESPESAS C...|  1000000000|           6637.52-73|               6637.52-73|                 GO |         449051|      Orçamento Fiscal|PENTAG ENGENHARIA...|      Ordinário|             NULL|           2024NE450096|59500.001594/2020-30|     0| CO0000ADAI2|             NULL|             NULL|             10|       NULL|    195006|       195010|               NULL|    310518.0|\n",
      "|000000000000|                6|FCA152XCONS*2024N...|  1000000000|           4517.52-68|               4517.52-68|         Brasília-DF|         449051|      Orçamento Fiscal|                    |         Global|05153611214LW0001|           2024NE000101|   64332002040202401|     0| FCA152XCONS|            00000|               00|             10|         00|    160066|       160507|              52121|   8000000.0|\n",
      "|000000000000|                7|B4PJT23PDRAMZP010...|  1000000000|          35751.13-25|              35751.13-25|                  - |         449051|      Orçamento Fiscal|                    |         Global|051536112156M0001|           2024NE000105|   64333.002825/2019|     0| FHA131XAPTG|             000A|                2|             10|          A|    160017|       160502|              52121|    800000.0|\n",
      "|000000000000|              104|PLANO DE INVESTIM...|  1001000000|          27872.43-99|              27872.43-99|                    |         449051|  Orçamento de Segu...|                    |      Ordinário|10302511862175027|           2024NE012532|              648/23|     0|            |            10302|               00|             10|         00|    366003|         NULL|              36210|     23400.0|\n",
      "|000000000000|                5|B4PJT23PDR03SF014...|  1000000000|           3838.41-27|               3838.41-27|         CASCAVEL/PR|         449051|      Orçamento Fiscal|                    |         Global|05153611214T50001|           2024NE000227|                    |     0| FBA1294OBRA|            0003 |                3|             10|          A|    160220|       160502|              52121|    14045.15|\n",
      "|000000000000|                4|B4PJT24PDRASTR009...|  1000000000|          21695.52-52|              21695.52-52|         BRASÍLIA-DF|         449051|      Orçamento Fiscal|                    |         Global|05153611214LW0001|           2024NE000135|64332.003103/2024-38|     0| FCA152XCONS|            00000|               00|             10|         00|    160066|       160502|              52121|    64175.36|\n",
      "+------------+-----------------+--------------------+------------+---------------------+-------------------------+--------------------+---------------+----------------------+--------------------+---------------+-----------------+-----------------------+--------------------+------+------------+-----------------+-----------------+---------------+-----------+----------+-------------+-------------------+------------+\n",
      "only showing top 20 rows\n",
      "\n"
     ]
    }
   ],
   "source": [
    "origin = '/home/adriano/Documentos/airflow/database/dest/bronze/execucao-financeira'\n",
    "process_all = False\n",
    "ano_final = current_year\n",
    "ano_inicial = current_year\n",
    "\n",
    "\n",
    "if process_all == False:\n",
    "    origin_file = origin + '/' + str(ano_inicial) + '_' + str(ano_final) + '.json'\n",
    "    df = spark.read.json(origin_file)\n",
    "\n",
    "print(df.printSchema())\n",
    "df.show()"
   ]
  }
 ],
 "metadata": {
  "kernelspec": {
   "display_name": "airflow",
   "language": "python",
   "name": "python3"
  },
  "language_info": {
   "codemirror_mode": {
    "name": "ipython",
    "version": 3
   },
   "file_extension": ".py",
   "mimetype": "text/x-python",
   "name": "python",
   "nbconvert_exporter": "python",
   "pygments_lexer": "ipython3",
   "version": "3.12.3"
  }
 },
 "nbformat": 4,
 "nbformat_minor": 2
}
