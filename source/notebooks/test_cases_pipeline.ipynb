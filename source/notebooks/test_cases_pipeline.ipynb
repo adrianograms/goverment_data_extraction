{
 "cells": [
  {
   "cell_type": "markdown",
   "id": "ddcbba5d",
   "metadata": {},
   "source": [
    "## Tests Cases for the Brazilian Goverment Data Extraction Project\n",
    "\n",
    "---"
   ]
  },
  {
   "cell_type": "code",
   "execution_count": null,
   "id": "d77878da",
   "metadata": {},
   "outputs": [
    {
     "name": "stderr",
     "output_type": "stream",
     "text": [
      "25/07/26 14:49:26 WARN Utils: Your hostname, Ubuntu-VirtualBox resolves to a loopback address: 127.0.1.1; using 10.0.2.15 instead (on interface enp0s3)\n",
      "25/07/26 14:49:26 WARN Utils: Set SPARK_LOCAL_IP if you need to bind to another address\n",
      "Setting default log level to \"WARN\".\n",
      "To adjust logging level use sc.setLogLevel(newLevel). For SparkR, use setLogLevel(newLevel).\n",
      "25/07/26 14:49:28 WARN NativeCodeLoader: Unable to load native-hadoop library for your platform... using builtin-java classes where applicable\n",
      "25/07/26 14:49:30 WARN Utils: Service 'SparkUI' could not bind on port 4040. Attempting port 4041.\n"
     ]
    },
    {
     "name": "stdout",
     "output_type": "stream",
     "text": [
      "CRUD starting for table public.fact_projeto_investimento\n",
      "Starting update...\n"
     ]
    },
    {
     "name": "stderr",
     "output_type": "stream",
     "text": [
      "                                                                                \r"
     ]
    },
    {
     "name": "stdout",
     "output_type": "stream",
     "text": [
      "Updated 0 rows\n",
      "Starting insert...\n"
     ]
    },
    {
     "name": "stderr",
     "output_type": "stream",
     "text": [
      "25/07/26 14:49:43 WARN GarbageCollectionMetrics: To enable non-built-in garbage collector(s) List(G1 Concurrent GC), users should configure it(them) to spark.eventLog.gcMetrics.youngGenerationGarbageCollectors or spark.eventLog.gcMetrics.oldGenerationGarbageCollectors\n",
      "                                                                                \r"
     ]
    },
    {
     "name": "stdout",
     "output_type": "stream",
     "text": [
      "Inserted 0 rows\n",
      "CRUD starting for table public.FACT_PROJETO_INVESTIMENTO_FONTE_RECURSO\n",
      "Starting update...\n",
      "Updated 0 rows\n",
      "Starting insert...\n",
      "Inserted 0 rows\n",
      "CRUD starting for table public.FACT_PROJETO_INVESTIMENTO_EIXOS\n",
      "Starting update...\n",
      "Updated 0 rows\n",
      "Starting insert...\n",
      "Inserted 0 rows\n",
      "CRUD starting for table public.FACT_PROJETO_INVESTIMENTO_TOMADORES\n",
      "Starting update...\n",
      "Updated 0 rows\n",
      "Starting insert...\n",
      "Inserted 0 rows\n",
      "CRUD starting for table public.FACT_PROJETO_INVESTIMENTO_EXECUTORES\n",
      "Starting update...\n",
      "Updated 0 rows\n",
      "Starting insert...\n",
      "Inserted 0 rows\n",
      "CRUD starting for table public.FACT_PROJETO_INVESTIMENTO_REPASSADORES\n",
      "Starting update...\n",
      "Updated 0 rows\n",
      "Starting insert...\n",
      "Inserted 0 rows\n",
      "CRUD starting for table public.FACT_PROJETO_INVESTIMENTO_TIPOS\n",
      "Starting update...\n",
      "Updated 0 rows\n",
      "Starting insert...\n",
      "Inserted 0 rows\n",
      "CRUD starting for table public.FACT_PROJETO_INVESTIMENTO_SUB_TIPOS\n",
      "Starting update...\n",
      "Updated 0 rows\n",
      "Starting insert...\n",
      "Inserted 0 rows\n"
     ]
    }
   ],
   "source": [
    "%load_ext autoreload\n",
    "%autoreload 2\n",
    "\n",
    "from tasks.operations_task import *\n",
    "\n",
    "crud_facts.function(500)"
   ]
  },
  {
   "cell_type": "code",
   "execution_count": null,
   "id": "bfb1d56a",
   "metadata": {},
   "outputs": [
    {
     "name": "stdout",
     "output_type": "stream",
     "text": [
      "[\u001b[34m2025-07-26T15:00:50.654-0300\u001b[0m] {\u001b[34mdagbag.py:\u001b[0m588} INFO\u001b[0m - Filling up the DagBag from /home/adriano/Documentos/airflow/dags\u001b[0m\n"
     ]
    },
    {
     "ename": "TypeError",
     "evalue": "DAG.test() got an unexpected keyword argument 'config'",
     "output_type": "error",
     "traceback": [
      "\u001b[0;31m---------------------------------------------------------------------------\u001b[0m",
      "\u001b[0;31mTypeError\u001b[0m                                 Traceback (most recent call last)",
      "Cell \u001b[0;32mIn[3], line 4\u001b[0m\n\u001b[1;32m      1\u001b[0m \u001b[38;5;28;01mfrom\u001b[39;00m \u001b[38;5;21;01mairflow\u001b[39;00m\u001b[38;5;21;01m.\u001b[39;00m\u001b[38;5;21;01mmodels\u001b[39;00m \u001b[38;5;28;01mimport\u001b[39;00m DagBag\n\u001b[1;32m      3\u001b[0m dag \u001b[38;5;241m=\u001b[39m DagBag(include_examples\u001b[38;5;241m=\u001b[39m\u001b[38;5;28;01mFalse\u001b[39;00m)\u001b[38;5;241m.\u001b[39mget_dag(\u001b[38;5;124m\"\u001b[39m\u001b[38;5;124mdag_test_crud_projeto_investimento_group_task\u001b[39m\u001b[38;5;124m\"\u001b[39m)\n\u001b[0;32m----> 4\u001b[0m results \u001b[38;5;241m=\u001b[39m \u001b[43mdag\u001b[49m\u001b[38;5;241;43m.\u001b[39;49m\u001b[43mtest\u001b[49m\u001b[43m(\u001b[49m\u001b[43mconfig\u001b[49m\u001b[38;5;241;43m=\u001b[39;49m\u001b[43m{\u001b[49m\u001b[38;5;124;43m\"\u001b[39;49m\u001b[38;5;124;43mbulk_size\u001b[39;49m\u001b[38;5;124;43m\"\u001b[39;49m\u001b[43m:\u001b[49m\u001b[43m \u001b[49m\u001b[38;5;241;43m1000\u001b[39;49m\u001b[43m}\u001b[49m\u001b[43m)\u001b[49m\n",
      "File \u001b[0;32m~/Documentos/airflow/airflow/lib/python3.12/site-packages/airflow/utils/session.py:97\u001b[0m, in \u001b[0;36mprovide_session.<locals>.wrapper\u001b[0;34m(*args, **kwargs)\u001b[0m\n\u001b[1;32m     95\u001b[0m \u001b[38;5;28;01melse\u001b[39;00m:\n\u001b[1;32m     96\u001b[0m     \u001b[38;5;28;01mwith\u001b[39;00m create_session() \u001b[38;5;28;01mas\u001b[39;00m session:\n\u001b[0;32m---> 97\u001b[0m         \u001b[38;5;28;01mreturn\u001b[39;00m \u001b[43mfunc\u001b[49m\u001b[43m(\u001b[49m\u001b[38;5;241;43m*\u001b[39;49m\u001b[43margs\u001b[49m\u001b[43m,\u001b[49m\u001b[43m \u001b[49m\u001b[43msession\u001b[49m\u001b[38;5;241;43m=\u001b[39;49m\u001b[43msession\u001b[49m\u001b[43m,\u001b[49m\u001b[43m \u001b[49m\u001b[38;5;241;43m*\u001b[39;49m\u001b[38;5;241;43m*\u001b[39;49m\u001b[43mkwargs\u001b[49m\u001b[43m)\u001b[49m\n",
      "\u001b[0;31mTypeError\u001b[0m: DAG.test() got an unexpected keyword argument 'config'"
     ]
    }
   ],
   "source": [
    "from airflow.models import DagBag\n",
    "\n",
    "dag = DagBag(include_examples=False).get_dag(\"dag_test_crud_projeto_investimento_group_task\")\n",
    "results = dag.test()"
   ]
  },
  {
   "cell_type": "code",
   "execution_count": 7,
   "id": "71c194b6",
   "metadata": {},
   "outputs": [
    {
     "name": "stdout",
     "output_type": "stream",
     "text": [
      "DAG triggered: {'conf': {'bulk_size': 500}, 'dag_id': 'dag_test_crud_projeto_investimento_group_task', 'dag_run_id': 'manual__2025-07-26T18:14:18+00:00', 'data_interval_start': DateTime(2025, 7, 26, 18, 14, 18, tzinfo=Timezone('UTC')), 'data_interval_end': DateTime(2025, 7, 26, 18, 14, 18, tzinfo=Timezone('UTC')), 'end_date': None, 'external_trigger': True, 'last_scheduling_decision': None, 'logical_date': DateTime(2025, 7, 26, 18, 14, 18, tzinfo=Timezone('UTC')), 'run_type': <DagRunType.MANUAL: 'manual'>, 'start_date': None, 'state': <DagRunState.QUEUED: 'queued'>}\n"
     ]
    }
   ],
   "source": [
    "from airflow.api.client.local_client import Client\n",
    "\n",
    "c = Client(None, None)\n",
    "run = c.trigger_dag(\n",
    "    dag_id=\"dag_test_crud_projeto_investimento_group_task\",\n",
    "    #run_id=\"manual_test_run\",\n",
    "    conf={\"bulk_size\": 500}\n",
    ")\n",
    "print(\"DAG triggered:\", run)"
   ]
  }
 ],
 "metadata": {
  "kernelspec": {
   "display_name": "airflow",
   "language": "python",
   "name": "python3"
  },
  "language_info": {
   "codemirror_mode": {
    "name": "ipython",
    "version": 3
   },
   "file_extension": ".py",
   "mimetype": "text/x-python",
   "name": "python",
   "nbconvert_exporter": "python",
   "pygments_lexer": "ipython3",
   "version": "3.12.3"
  }
 },
 "nbformat": 4,
 "nbformat_minor": 5
}
