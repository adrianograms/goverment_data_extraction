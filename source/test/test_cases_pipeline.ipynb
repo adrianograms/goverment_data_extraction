{
 "cells": [
  {
   "cell_type": "markdown",
   "id": "ddcbba5d",
   "metadata": {},
   "source": [
    "## Tests Cases for the Brazilian Goverment Data Extraction Project\n",
    "\n",
    "---"
   ]
  },
  {
   "cell_type": "code",
   "execution_count": null,
   "id": "d77878da",
   "metadata": {},
   "outputs": [
    {
     "name": "stderr",
     "output_type": "stream",
     "text": [
      "25/07/26 14:49:26 WARN Utils: Your hostname, Ubuntu-VirtualBox resolves to a loopback address: 127.0.1.1; using 10.0.2.15 instead (on interface enp0s3)\n",
      "25/07/26 14:49:26 WARN Utils: Set SPARK_LOCAL_IP if you need to bind to another address\n",
      "Setting default log level to \"WARN\".\n",
      "To adjust logging level use sc.setLogLevel(newLevel). For SparkR, use setLogLevel(newLevel).\n",
      "25/07/26 14:49:28 WARN NativeCodeLoader: Unable to load native-hadoop library for your platform... using builtin-java classes where applicable\n",
      "25/07/26 14:49:30 WARN Utils: Service 'SparkUI' could not bind on port 4040. Attempting port 4041.\n"
     ]
    },
    {
     "name": "stdout",
     "output_type": "stream",
     "text": [
      "CRUD starting for table public.fact_projeto_investimento\n",
      "Starting update...\n"
     ]
    },
    {
     "name": "stderr",
     "output_type": "stream",
     "text": [
      "                                                                                \r"
     ]
    },
    {
     "name": "stdout",
     "output_type": "stream",
     "text": [
      "Updated 0 rows\n",
      "Starting insert...\n"
     ]
    },
    {
     "name": "stderr",
     "output_type": "stream",
     "text": [
      "25/07/26 14:49:43 WARN GarbageCollectionMetrics: To enable non-built-in garbage collector(s) List(G1 Concurrent GC), users should configure it(them) to spark.eventLog.gcMetrics.youngGenerationGarbageCollectors or spark.eventLog.gcMetrics.oldGenerationGarbageCollectors\n",
      "                                                                                \r"
     ]
    },
    {
     "name": "stdout",
     "output_type": "stream",
     "text": [
      "Inserted 0 rows\n",
      "CRUD starting for table public.FACT_PROJETO_INVESTIMENTO_FONTE_RECURSO\n",
      "Starting update...\n",
      "Updated 0 rows\n",
      "Starting insert...\n",
      "Inserted 0 rows\n",
      "CRUD starting for table public.FACT_PROJETO_INVESTIMENTO_EIXOS\n",
      "Starting update...\n",
      "Updated 0 rows\n",
      "Starting insert...\n",
      "Inserted 0 rows\n",
      "CRUD starting for table public.FACT_PROJETO_INVESTIMENTO_TOMADORES\n",
      "Starting update...\n",
      "Updated 0 rows\n",
      "Starting insert...\n",
      "Inserted 0 rows\n",
      "CRUD starting for table public.FACT_PROJETO_INVESTIMENTO_EXECUTORES\n",
      "Starting update...\n",
      "Updated 0 rows\n",
      "Starting insert...\n",
      "Inserted 0 rows\n",
      "CRUD starting for table public.FACT_PROJETO_INVESTIMENTO_REPASSADORES\n",
      "Starting update...\n",
      "Updated 0 rows\n",
      "Starting insert...\n",
      "Inserted 0 rows\n",
      "CRUD starting for table public.FACT_PROJETO_INVESTIMENTO_TIPOS\n",
      "Starting update...\n",
      "Updated 0 rows\n",
      "Starting insert...\n",
      "Inserted 0 rows\n",
      "CRUD starting for table public.FACT_PROJETO_INVESTIMENTO_SUB_TIPOS\n",
      "Starting update...\n",
      "Updated 0 rows\n",
      "Starting insert...\n",
      "Inserted 0 rows\n"
     ]
    }
   ],
   "source": [
    "%load_ext autoreload\n",
    "%autoreload 2\n",
    "\n",
    "from tasks.operations_task import *\n",
    "\n",
    "crud_facts.function(500)"
   ]
  },
  {
   "cell_type": "code",
   "execution_count": 13,
   "id": "bfb1d56a",
   "metadata": {},
   "outputs": [
    {
     "name": "stdout",
     "output_type": "stream",
     "text": [
      "[\u001b[34m2025-07-27T14:34:11.497-0300\u001b[0m] {\u001b[34mdagbag.py:\u001b[0m588} INFO\u001b[0m - Filling up the DagBag from /home/adriano/Documentos/airflow/dags\u001b[0m\n",
      "[\u001b[34m2025-07-27T14:34:11.581-0300\u001b[0m] {\u001b[34mdag.py:\u001b[0m4435} INFO\u001b[0m - dagrun id: dag_test_crud_projeto_investimento_group_task\u001b[0m\n",
      "[\u001b[34m2025-07-27T14:34:11.606-0300\u001b[0m] {\u001b[34mdag.py:\u001b[0m4451} INFO\u001b[0m - created dagrun <DagRun dag_test_crud_projeto_investimento_group_task @ 2025-07-27 17:34:11.557373+00:00: manual__2025-07-27T17:34:11.557373+00:00, state:running, queued_at: None. externally triggered: False>\u001b[0m\n",
      "[\u001b[34m2025-07-27T14:34:11.674-0300\u001b[0m] {\u001b[34mdag.py:\u001b[0m4396} INFO\u001b[0m - [DAG TEST] starting task_id=crud_projeto_investimento.delete_duplicates_stg map_index=-1\u001b[0m\n",
      "[\u001b[34m2025-07-27T14:34:11.687-0300\u001b[0m] {\u001b[34mdag.py:\u001b[0m4399} INFO\u001b[0m - [DAG TEST] running task <TaskInstance: dag_test_crud_projeto_investimento_group_task.crud_projeto_investimento.delete_duplicates_stg manual__2025-07-27T17:34:11.557373+00:00 [scheduled]>\u001b[0m\n",
      "[2025-07-27 14:34:11,756] {taskinstance.py:3131} INFO - Exporting env vars: AIRFLOW_CTX_DAG_OWNER='airflow' AIRFLOW_CTX_DAG_ID='dag_test_crud_projeto_investimento_group_task' AIRFLOW_CTX_TASK_ID='crud_projeto_investimento.delete_duplicates_stg' AIRFLOW_CTX_EXECUTION_DATE='2025-07-27T17:34:11.557373+00:00' AIRFLOW_CTX_TRY_NUMBER='1' AIRFLOW_CTX_DAG_RUN_ID='manual__2025-07-27T17:34:11.557373+00:00'\n",
      "[\u001b[34m2025-07-27T14:34:11.756-0300\u001b[0m] {\u001b[34mtaskinstance.py:\u001b[0m3131} INFO\u001b[0m - Exporting env vars: AIRFLOW_CTX_DAG_OWNER='airflow' AIRFLOW_CTX_DAG_ID='dag_test_crud_projeto_investimento_group_task' AIRFLOW_CTX_TASK_ID='crud_projeto_investimento.delete_duplicates_stg' AIRFLOW_CTX_EXECUTION_DATE='2025-07-27T17:34:11.557373+00:00' AIRFLOW_CTX_TRY_NUMBER='1' AIRFLOW_CTX_DAG_RUN_ID='manual__2025-07-27T17:34:11.557373+00:00'\u001b[0m\n",
      "[\u001b[34m2025-07-27T14:34:11.760-0300\u001b[0m] {\u001b[34mtaskinstance.py:\u001b[0m731} INFO\u001b[0m - ::endgroup::\u001b[0m\n",
      "Deleting duplicates on table stg_projeto_investimento_eixos...\n",
      "Deleting duplicates on table stg_projeto_investimento_executores...\n",
      "Deleting duplicates on table stg_projeto_investimento_fontes_de_recurso...\n",
      "Deleting duplicates on table stg_projeto_investimento_repassadores...\n",
      "Deleting duplicates on table stg_projeto_investimento_sub_tipos...\n",
      "Deleting duplicates on table stg_projeto_investimento_tipos...\n",
      "Deleting duplicates on table stg_projeto_investimento_tomadores...\n",
      "Deleting duplicates on table stg_projeto_investimento...\n",
      "Deleting duplicates on table stg_execucao_financeira using distinct...\n",
      "[2025-07-27 14:34:12,327] {python.py:240} INFO - Done. Returned value was: None\n",
      "[\u001b[34m2025-07-27T14:34:12.327-0300\u001b[0m] {\u001b[34mpython.py:\u001b[0m240} INFO\u001b[0m - Done. Returned value was: None\u001b[0m\n",
      "[\u001b[34m2025-07-27T14:34:12.335-0300\u001b[0m] {\u001b[34mtaskinstance.py:\u001b[0m340} INFO\u001b[0m - ::group::Post task execution logs\u001b[0m\n",
      "[\u001b[34m2025-07-27T14:34:12.336-0300\u001b[0m] {\u001b[34mtaskinstance.py:\u001b[0m352} INFO\u001b[0m - Marking task as SUCCESS. dag_id=dag_test_crud_projeto_investimento_group_task, task_id=crud_projeto_investimento.delete_duplicates_stg, run_id=manual__2025-07-27T17:34:11.557373+00:00, execution_date=20250727T173411, start_date=, end_date=20250727T173412\u001b[0m\n",
      "[\u001b[34m2025-07-27T14:34:12.348-0300\u001b[0m] {\u001b[34mdag.py:\u001b[0m4410} INFO\u001b[0m - [DAG TEST] end task task_id=crud_projeto_investimento.delete_duplicates_stg map_index=-1\u001b[0m\n",
      "[\u001b[34m2025-07-27T14:34:12.384-0300\u001b[0m] {\u001b[34mdag.py:\u001b[0m4396} INFO\u001b[0m - [DAG TEST] starting task_id=crud_projeto_investimento.crud_dimensions map_index=-1\u001b[0m\n",
      "[\u001b[34m2025-07-27T14:34:12.393-0300\u001b[0m] {\u001b[34mdag.py:\u001b[0m4399} INFO\u001b[0m - [DAG TEST] running task <TaskInstance: dag_test_crud_projeto_investimento_group_task.crud_projeto_investimento.crud_dimensions manual__2025-07-27T17:34:11.557373+00:00 [scheduled]>\u001b[0m\n",
      "[2025-07-27 14:34:12,515] {taskinstance.py:3131} INFO - Exporting env vars: AIRFLOW_CTX_DAG_OWNER='airflow' AIRFLOW_CTX_DAG_ID='dag_test_crud_projeto_investimento_group_task' AIRFLOW_CTX_TASK_ID='crud_projeto_investimento.crud_dimensions' AIRFLOW_CTX_EXECUTION_DATE='2025-07-27T17:34:11.557373+00:00' AIRFLOW_CTX_TRY_NUMBER='1' AIRFLOW_CTX_DAG_RUN_ID='manual__2025-07-27T17:34:11.557373+00:00'\n",
      "[\u001b[34m2025-07-27T14:34:12.515-0300\u001b[0m] {\u001b[34mtaskinstance.py:\u001b[0m3131} INFO\u001b[0m - Exporting env vars: AIRFLOW_CTX_DAG_OWNER='airflow' AIRFLOW_CTX_DAG_ID='dag_test_crud_projeto_investimento_group_task' AIRFLOW_CTX_TASK_ID='crud_projeto_investimento.crud_dimensions' AIRFLOW_CTX_EXECUTION_DATE='2025-07-27T17:34:11.557373+00:00' AIRFLOW_CTX_TRY_NUMBER='1' AIRFLOW_CTX_DAG_RUN_ID='manual__2025-07-27T17:34:11.557373+00:00'\u001b[0m\n",
      "[\u001b[34m2025-07-27T14:34:12.533-0300\u001b[0m] {\u001b[34mtaskinstance.py:\u001b[0m731} INFO\u001b[0m - ::endgroup::\u001b[0m\n",
      "CRUD starting for table public.dim_eixo\n",
      "Starting update...\n"
     ]
    },
    {
     "name": "stderr",
     "output_type": "stream",
     "text": [
      "                                                                                \r"
     ]
    },
    {
     "name": "stdout",
     "output_type": "stream",
     "text": [
      "Updated 0 rows\n",
      "Starting insert...\n",
      "Inserted 0 rows\n",
      "CRUD starting for table public.dim_executor\n",
      "Starting update...\n",
      "Updated 0 rows\n",
      "Starting insert...\n",
      "Inserted 0 rows\n",
      "CRUD starting for table public.dim_fonte_recurso\n",
      "Starting update...\n",
      "Updated 0 rows\n",
      "Starting insert...\n",
      "Inserted 0 rows\n",
      "CRUD starting for table public.dim_repassador\n",
      "Starting update...\n",
      "Updated 0 rows\n",
      "Starting insert...\n",
      "Inserted 0 rows\n",
      "CRUD starting for table public.dim_sub_tipo\n",
      "Starting update...\n",
      "Updated 0 rows\n",
      "Starting insert...\n",
      "Inserted 0 rows\n",
      "CRUD starting for table public.dim_tipo\n",
      "Starting update...\n",
      "Updated 0 rows\n",
      "Starting insert...\n",
      "Inserted 0 rows\n",
      "CRUD starting for table public.dim_tomador\n",
      "Starting update...\n",
      "Updated 0 rows\n",
      "Starting insert...\n",
      "Inserted 0 rows\n",
      "CRUD starting for table public.dim_uf\n",
      "Starting update...\n",
      "Updated 0 rows\n",
      "Starting insert...\n",
      "Inserted 0 rows\n",
      "CRUD starting for table public.dim_situacao\n",
      "Starting update...\n",
      "Updated 0 rows\n",
      "Starting insert...\n"
     ]
    },
    {
     "name": "stderr",
     "output_type": "stream",
     "text": [
      "                                                                                \r"
     ]
    },
    {
     "name": "stdout",
     "output_type": "stream",
     "text": [
      "Inserted 0 rows\n",
      "CRUD starting for table public.dim_natureza\n",
      "Starting update...\n",
      "Updated 0 rows\n",
      "Starting insert...\n",
      "Inserted 0 rows\n",
      "CRUD starting for table public.dim_especie\n",
      "Starting update...\n",
      "Updated 0 rows\n",
      "Starting insert...\n",
      "Inserted 0 rows\n",
      "CRUD starting for table public.dim_projeto_investimento\n",
      "Starting update...\n"
     ]
    },
    {
     "name": "stderr",
     "output_type": "stream",
     "text": [
      "                                                                                \r"
     ]
    },
    {
     "name": "stdout",
     "output_type": "stream",
     "text": [
      "Updated 0 rows\n",
      "Starting insert...\n",
      "Inserted 0 rows\n",
      "[2025-07-27 14:34:47,621] {python.py:240} INFO - Done. Returned value was: None\n",
      "[\u001b[34m2025-07-27T14:34:47.621-0300\u001b[0m] {\u001b[34mpython.py:\u001b[0m240} INFO\u001b[0m - Done. Returned value was: None\u001b[0m\n",
      "[\u001b[34m2025-07-27T14:34:47.637-0300\u001b[0m] {\u001b[34mtaskinstance.py:\u001b[0m340} INFO\u001b[0m - ::group::Post task execution logs\u001b[0m\n",
      "[\u001b[34m2025-07-27T14:34:47.639-0300\u001b[0m] {\u001b[34mtaskinstance.py:\u001b[0m352} INFO\u001b[0m - Marking task as SUCCESS. dag_id=dag_test_crud_projeto_investimento_group_task, task_id=crud_projeto_investimento.crud_dimensions, run_id=manual__2025-07-27T17:34:11.557373+00:00, execution_date=20250727T173411, start_date=20250727T173413, end_date=20250727T173447\u001b[0m\n",
      "[\u001b[34m2025-07-27T14:34:47.654-0300\u001b[0m] {\u001b[34mdag.py:\u001b[0m4410} INFO\u001b[0m - [DAG TEST] end task task_id=crud_projeto_investimento.crud_dimensions map_index=-1\u001b[0m\n",
      "[\u001b[34m2025-07-27T14:34:47.689-0300\u001b[0m] {\u001b[34mdag.py:\u001b[0m4396} INFO\u001b[0m - [DAG TEST] starting task_id=crud_projeto_investimento.crud_facts map_index=-1\u001b[0m\n",
      "[\u001b[34m2025-07-27T14:34:47.700-0300\u001b[0m] {\u001b[34mdag.py:\u001b[0m4399} INFO\u001b[0m - [DAG TEST] running task <TaskInstance: dag_test_crud_projeto_investimento_group_task.crud_projeto_investimento.crud_facts manual__2025-07-27T17:34:11.557373+00:00 [scheduled]>\u001b[0m\n",
      "[2025-07-27 14:34:47,745] {taskinstance.py:3131} INFO - Exporting env vars: AIRFLOW_CTX_DAG_OWNER='airflow' AIRFLOW_CTX_DAG_ID='dag_test_crud_projeto_investimento_group_task' AIRFLOW_CTX_TASK_ID='crud_projeto_investimento.crud_facts' AIRFLOW_CTX_EXECUTION_DATE='2025-07-27T17:34:11.557373+00:00' AIRFLOW_CTX_TRY_NUMBER='1' AIRFLOW_CTX_DAG_RUN_ID='manual__2025-07-27T17:34:11.557373+00:00'\n",
      "[\u001b[34m2025-07-27T14:34:47.745-0300\u001b[0m] {\u001b[34mtaskinstance.py:\u001b[0m3131} INFO\u001b[0m - Exporting env vars: AIRFLOW_CTX_DAG_OWNER='airflow' AIRFLOW_CTX_DAG_ID='dag_test_crud_projeto_investimento_group_task' AIRFLOW_CTX_TASK_ID='crud_projeto_investimento.crud_facts' AIRFLOW_CTX_EXECUTION_DATE='2025-07-27T17:34:11.557373+00:00' AIRFLOW_CTX_TRY_NUMBER='1' AIRFLOW_CTX_DAG_RUN_ID='manual__2025-07-27T17:34:11.557373+00:00'\u001b[0m\n",
      "[\u001b[34m2025-07-27T14:34:47.757-0300\u001b[0m] {\u001b[34mtaskinstance.py:\u001b[0m731} INFO\u001b[0m - ::endgroup::\u001b[0m\n",
      "CRUD starting for table public.fact_projeto_investimento\n",
      "Starting update...\n",
      "Updated 0 rows\n",
      "Starting insert...\n",
      "Inserted 0 rows\n",
      "CRUD starting for table public.FACT_PROJETO_INVESTIMENTO_FONTE_RECURSO\n",
      "Starting update...\n",
      "Updated 0 rows\n",
      "Starting insert...\n",
      "Inserted 0 rows\n",
      "CRUD starting for table public.FACT_PROJETO_INVESTIMENTO_EIXOS\n",
      "Starting update...\n",
      "Updated 0 rows\n",
      "Starting insert...\n",
      "Inserted 0 rows\n",
      "CRUD starting for table public.FACT_PROJETO_INVESTIMENTO_TOMADORES\n",
      "Starting update...\n"
     ]
    },
    {
     "name": "stderr",
     "output_type": "stream",
     "text": [
      "                                                                                \r"
     ]
    },
    {
     "name": "stdout",
     "output_type": "stream",
     "text": [
      "Updated 0 rows\n",
      "Starting insert...\n",
      "Inserted 0 rows\n",
      "CRUD starting for table public.FACT_PROJETO_INVESTIMENTO_EXECUTORES\n",
      "Starting update...\n",
      "Updated 0 rows\n",
      "Starting insert...\n",
      "Inserted 0 rows\n",
      "CRUD starting for table public.FACT_PROJETO_INVESTIMENTO_REPASSADORES\n",
      "Starting update...\n",
      "Updated 0 rows\n",
      "Starting insert...\n",
      "Inserted 0 rows\n",
      "CRUD starting for table public.FACT_PROJETO_INVESTIMENTO_TIPOS\n",
      "Starting update...\n",
      "Updated 0 rows\n",
      "Starting insert...\n",
      "Inserted 0 rows\n",
      "CRUD starting for table public.FACT_PROJETO_INVESTIMENTO_SUB_TIPOS\n",
      "Starting update...\n",
      "Updated 0 rows\n",
      "Starting insert...\n",
      "Inserted 0 rows\n",
      "[2025-07-27 14:35:14,619] {python.py:240} INFO - Done. Returned value was: None\n",
      "[\u001b[34m2025-07-27T14:35:14.619-0300\u001b[0m] {\u001b[34mpython.py:\u001b[0m240} INFO\u001b[0m - Done. Returned value was: None\u001b[0m\n"
     ]
    },
    {
     "name": "stderr",
     "output_type": "stream",
     "text": [
      "                                                                                \r"
     ]
    },
    {
     "name": "stdout",
     "output_type": "stream",
     "text": [
      "[\u001b[34m2025-07-27T14:35:14.642-0300\u001b[0m] {\u001b[34mtaskinstance.py:\u001b[0m340} INFO\u001b[0m - ::group::Post task execution logs\u001b[0m\n",
      "[\u001b[34m2025-07-27T14:35:14.650-0300\u001b[0m] {\u001b[34mtaskinstance.py:\u001b[0m352} INFO\u001b[0m - Marking task as SUCCESS. dag_id=dag_test_crud_projeto_investimento_group_task, task_id=crud_projeto_investimento.crud_facts, run_id=manual__2025-07-27T17:34:11.557373+00:00, execution_date=20250727T173411, start_date=20250727T173450, end_date=20250727T173514\u001b[0m\n",
      "[\u001b[34m2025-07-27T14:35:14.695-0300\u001b[0m] {\u001b[34mdag.py:\u001b[0m4410} INFO\u001b[0m - [DAG TEST] end task task_id=crud_projeto_investimento.crud_facts map_index=-1\u001b[0m\n",
      "[\u001b[34m2025-07-27T14:35:14.704-0300\u001b[0m] {\u001b[34mdagrun.py:\u001b[0m854} INFO\u001b[0m - Marking run <DagRun dag_test_crud_projeto_investimento_group_task @ 2025-07-27 17:34:11.557373+00:00: manual__2025-07-27T17:34:11.557373+00:00, state:running, queued_at: None. externally triggered: False> successful\u001b[0m\n",
      "[\u001b[34m2025-07-27T14:35:14.707-0300\u001b[0m] {\u001b[34mdagrun.py:\u001b[0m905} INFO\u001b[0m - DagRun Finished: dag_id=dag_test_crud_projeto_investimento_group_task, execution_date=2025-07-27 17:34:11.557373+00:00, run_id=manual__2025-07-27T17:34:11.557373+00:00, run_start_date=2025-07-27 17:34:11.557373+00:00, run_end_date=2025-07-27 17:35:14.707574+00:00, run_duration=63.150201, state=success, external_trigger=False, run_type=manual, data_interval_start=2025-07-27 17:34:11.557373+00:00, data_interval_end=2025-07-27 17:34:11.557373+00:00, dag_hash=None\u001b[0m\n"
     ]
    }
   ],
   "source": [
    "from airflow.models import DagBag\n",
    "\n",
    "dag = DagBag(include_examples=False).get_dag(\"dag_test_crud_projeto_investimento_group_task\")\n",
    "\n",
    "results = dag.test(run_conf={\"bulk_size\": 10})"
   ]
  },
  {
   "cell_type": "code",
   "execution_count": 2,
   "id": "71c194b6",
   "metadata": {},
   "outputs": [
    {
     "name": "stdout",
     "output_type": "stream",
     "text": [
      "DAG triggered: {'conf': {'bulk_size': 500}, 'dag_id': 'dag_test_crud_projeto_investimento_group_task', 'dag_run_id': 'manual__2025-07-27T17:12:20+00:00', 'data_interval_start': DateTime(2025, 7, 27, 17, 12, 20, tzinfo=Timezone('UTC')), 'data_interval_end': DateTime(2025, 7, 27, 17, 12, 20, tzinfo=Timezone('UTC')), 'end_date': None, 'external_trigger': True, 'last_scheduling_decision': None, 'logical_date': DateTime(2025, 7, 27, 17, 12, 20, tzinfo=Timezone('UTC')), 'run_type': <DagRunType.MANUAL: 'manual'>, 'start_date': None, 'state': <DagRunState.QUEUED: 'queued'>}\n"
     ]
    }
   ],
   "source": [
    "from airflow.api.client.local_client import Client\n",
    "\n",
    "c = Client(None, None)\n",
    "run = c.trigger_dag(\n",
    "    dag_id=\"dag_test_crud_projeto_investimento_group_task\",\n",
    "    #run_id=\"manual_test_run\",\n",
    "    conf={\"bulk_size\": 500}\n",
    ")\n",
    "print(\"DAG triggered:\", run)"
   ]
  }
 ],
 "metadata": {
  "kernelspec": {
   "display_name": "airflow",
   "language": "python",
   "name": "python3"
  },
  "language_info": {
   "codemirror_mode": {
    "name": "ipython",
    "version": 3
   },
   "file_extension": ".py",
   "mimetype": "text/x-python",
   "name": "python",
   "nbconvert_exporter": "python",
   "pygments_lexer": "ipython3",
   "version": "3.12.3"
  }
 },
 "nbformat": 4,
 "nbformat_minor": 5
}
